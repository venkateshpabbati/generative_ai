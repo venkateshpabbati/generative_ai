{
 "cells": [
  {
   "cell_type": "markdown",
   "id": "550f42da-6d38-4047-8714-d1dc0f454ffb",
   "metadata": {},
   "source": [
    "# Grade calculator"
   ]
  },
  {
   "cell_type": "code",
   "execution_count": 223,
   "id": "b2189f60-f17b-41a0-9189-defd1b1bfb14",
   "metadata": {},
   "outputs": [
    {
     "name": "stdin",
     "output_type": "stream",
     "text": [
      "Enter the number of subjects 3\n",
      "Enter the subject 1 name:  Math\n",
      "Enter score for Math (out of 100):  85\n",
      "Enter the subject 2 name:  Science\n",
      "Enter score for Science (out of 100):  92\n",
      "Enter the subject 3 name:  English\n",
      "Enter score for English (out of 100):  78\n"
     ]
    },
    {
     "name": "stdout",
     "output_type": "stream",
     "text": [
      "Average Score: 85.0\n",
      "Grade: B\n",
      "Eligible for Honors: No\n"
     ]
    }
   ],
   "source": [
    "number_of_subjects = int(input(\"Enter the number of subjects\")) # take input number of subjects\n",
    "total_score = 0 # initializing with 0\n",
    "for i in range(1,number_of_subjects+1): # loop with number of subjects\n",
    "    subject_name = input(f\"Enter the subject {i} name: \") # take input the subject name\n",
    "    score = int(input(f\"Enter score for {subject_name} (out of 100): \")) # takes input the marks of respective subject\n",
    "    total_score += score # calculates total score\n",
    "average_score = total_score / number_of_subjects # calculates average score af all subjects\n",
    "print(f\"Average Score: {average_score}\")\n",
    "grade = None \n",
    "honors = 'No'\n",
    "# condition to give the grade to subject\n",
    "if average_score >= 90:\n",
    "    grade = 'A'\n",
    "    honors = 'Yes'\n",
    "elif average_score >= 80:\n",
    "    grade = 'B'\n",
    "elif average_score >=70:\n",
    "    grade = 'C'\n",
    "elif average_score >= 60:\n",
    "    grade = 'D'\n",
    "else:\n",
    "    grade = 'F'\n",
    "# print the grade and honor whether eligible or not\n",
    "print(f\"Grade: {grade}\")\n",
    "print(f\"Eligible for Honors: {honors}\")"
   ]
  },
  {
   "cell_type": "markdown",
   "id": "2d22aad3-32d2-4995-9740-8f0a75ee0179",
   "metadata": {},
   "source": [
    "# Word Frequency Counter"
   ]
  },
  {
   "cell_type": "code",
   "execution_count": 226,
   "id": "26835e70-79a4-47f9-b345-31f6ddb1002a",
   "metadata": {},
   "outputs": [
    {
     "name": "stdin",
     "output_type": "stream",
     "text": [
      "Enter a sentence or paragraph The quick brown fox jumps over the lazy dog. The dog barks at the cat.\n"
     ]
    },
    {
     "name": "stdout",
     "output_type": "stream",
     "text": [
      "at:1\n",
      "barks:1\n",
      "brown:1\n",
      "cat:1\n",
      "dog:2\n",
      "fox:1\n",
      "jumps:1\n",
      "lazy:1\n",
      "over:1\n",
      "quick:1\n",
      "the:4\n"
     ]
    }
   ],
   "source": [
    "paragraph = input(\"Enter a sentence or paragraph\").lower() # take input paragraph or sentence and conver to lowercase\n",
    "punctuation = '''!()-[]{};:'\"\\,<>./?@#$%^&*_~''' # defining the puncatutation which are to remove\n",
    "cleaned_para = ''.join(char if char not in punctuation else ' ' for char in paragraph) # remove punctuations\n",
    "words = cleaned_para.split() # tokenize\n",
    "word_count = {} \n",
    "# loop to store word and count in dictionary\n",
    "for word in words:\n",
    "    if word in word_count:\n",
    "        word_count[word] += 1\n",
    "    else:\n",
    "        word_count[word] = 1\n",
    "# print the word counter in alphabetical sorted manner\n",
    "for word, count in sorted(word_count.items()):\n",
    "    print(f'{word}:{count}')"
   ]
  },
  {
   "cell_type": "code",
   "execution_count": null,
   "id": "c7922e3d-28bb-41b6-93c8-a87fb22cf818",
   "metadata": {},
   "outputs": [],
   "source": []
  }
 ],
 "metadata": {
  "kernelspec": {
   "display_name": "Python 3 (ipykernel)",
   "language": "python",
   "name": "python3"
  },
  "language_info": {
   "codemirror_mode": {
    "name": "ipython",
    "version": 3
   },
   "file_extension": ".py",
   "mimetype": "text/x-python",
   "name": "python",
   "nbconvert_exporter": "python",
   "pygments_lexer": "ipython3",
   "version": "3.11.7"
  }
 },
 "nbformat": 4,
 "nbformat_minor": 5
}
